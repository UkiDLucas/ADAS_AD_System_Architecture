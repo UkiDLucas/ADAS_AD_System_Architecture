{
 "cells": [
  {
   "cell_type": "markdown",
   "metadata": {},
   "source": [
    "# Real Time Operating Systems (RTOS)"
   ]
  },
  {
   "cell_type": "markdown",
   "metadata": {},
   "source": [
    "## Timing requirements\n",
    "\n",
    "### Soft Requirements \n",
    "missing timing degrades the quality of the system\n",
    "- User Interface(UI) on the display\n",
    "\n",
    "### Hard Requirements\n",
    "missing timing creates a failure in the system\n",
    "- vehicle control system, e.g. automated breaking (AB)"
   ]
  },
  {
   "cell_type": "markdown",
   "metadata": {},
   "source": [
    "## Multi-Process Systems\n",
    "\n",
    "### Ticks\n",
    "\n",
    "Divide time into a measurable increments\n",
    "\n",
    "### Tasks\n",
    "\n",
    "Divide work process into small containers\n",
    "\n",
    "\n",
    "### Priorities\n",
    "\n",
    "The Operating System (OS) shall run the highest priority unblocked task it can\n",
    "\n",
    "### Blocking\n",
    "\n",
    "- explicit pace, i.e. do a particular task every x miliseconds (ms)\n",
    "- do other lower priority tasks when processor time is available\n",
    "- inter-task communication\n"
   ]
  },
  {
   "cell_type": "markdown",
   "metadata": {},
   "source": [
    "# Resources\n",
    "\n",
    "- https://www.youtube.com/watch?v=jSvv_ELkSMM"
   ]
  },
  {
   "cell_type": "code",
   "execution_count": null,
   "metadata": {},
   "outputs": [],
   "source": []
  }
 ],
 "metadata": {
  "kernelspec": {
   "display_name": "Julia 1.4.2",
   "language": "julia",
   "name": "julia-1.4"
  },
  "language_info": {
   "file_extension": ".jl",
   "mimetype": "application/julia",
   "name": "julia",
   "version": "1.4.2"
  }
 },
 "nbformat": 4,
 "nbformat_minor": 4
}
