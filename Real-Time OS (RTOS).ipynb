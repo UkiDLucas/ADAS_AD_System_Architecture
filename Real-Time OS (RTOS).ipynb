{
 "cells": [
  {
   "cell_type": "markdown",
   "metadata": {},
   "source": [
    "# Real-Time Operating Systems (RTOS)"
   ]
  },
  {
   "cell_type": "markdown",
   "metadata": {
    "toc": true
   },
   "source": [
    "<h1>Table of Contents<span class=\"tocSkip\"></span></h1>\n",
    "<div class=\"toc\"><ul class=\"toc-item\"><li><span><a href=\"#Timing-requirements\" data-toc-modified-id=\"Timing-requirements-1\">Timing requirements</a></span><ul class=\"toc-item\"><li><span><a href=\"#Soft-Requirements\" data-toc-modified-id=\"Soft-Requirements-1.1\">Soft Requirements</a></span></li><li><span><a href=\"#Hard-Requirements\" data-toc-modified-id=\"Hard-Requirements-1.2\">Hard Requirements</a></span></li></ul></li><li><span><a href=\"#Multi-Process-Systems\" data-toc-modified-id=\"Multi-Process-Systems-2\">Multi-Process Systems</a></span><ul class=\"toc-item\"><li><span><a href=\"#Ticks\" data-toc-modified-id=\"Ticks-2.1\">Ticks</a></span></li><li><span><a href=\"#Tasks\" data-toc-modified-id=\"Tasks-2.2\">Tasks</a></span></li><li><span><a href=\"#Priorities\" data-toc-modified-id=\"Priorities-2.3\">Priorities</a></span></li><li><span><a href=\"#Blocking\" data-toc-modified-id=\"Blocking-2.4\">Blocking</a></span></li></ul></li><li><span><a href=\"#Interrupts\" data-toc-modified-id=\"Interrupts-3\">Interrupts</a></span></li></ul></div>"
   ]
  },
  {
   "cell_type": "markdown",
   "metadata": {},
   "source": [
    "## Timing requirements\n",
    "\n",
    "### Soft Requirements \n",
    "missing timing degrades the quality of the system\n",
    "- User Interface(UI) on the display\n",
    "\n",
    "### Hard Requirements\n",
    "missing timing creates a failure in the system\n",
    "- vehicle control system, e.g. automated breaking (AB)"
   ]
  },
  {
   "cell_type": "markdown",
   "metadata": {},
   "source": [
    "## Multi-Process Systems\n",
    "\n",
    "### Ticks\n",
    "\n",
    "Divide time into a measurable increments\n",
    "\n",
    "### Tasks\n",
    "\n",
    "Divide work process into small containers\n",
    "\n",
    "\n",
    "### Priorities\n",
    "\n",
    "The Operating System (OS) shall run the highest priority unblocked task it can\n",
    "\n",
    "### Blocking\n",
    "\n",
    "- explicit pace, i.e. do a particular task every x miliseconds (ms)\n",
    "- do other lower priority tasks when processor time is available\n",
    "- inter-task communication\n"
   ]
  },
  {
   "cell_type": "markdown",
   "metadata": {},
   "source": [
    "## Interrupts\n",
    "\n",
    "- Microcontroler units (MCU) have built-in timers that can trigger an interupt\n",
    "- An interrupt causes the processor to stop a previous taks and switch to the next\n",
    "- not portable\n",
    "- uses a timer for each scheduled task, typical MCU might have 2 to 4 timers\n",
    "- hard to cod"
   ]
  },
  {
   "cell_type": "markdown",
   "metadata": {},
   "source": [
    "# Resources\n",
    "\n",
    "- https://www.youtube.com/watch?v=jSvv_ELkSMM"
   ]
  },
  {
   "cell_type": "code",
   "execution_count": null,
   "metadata": {},
   "outputs": [],
   "source": []
  }
 ],
 "metadata": {
  "kernelspec": {
   "display_name": "Julia 1.4.2",
   "language": "julia",
   "name": "julia-1.4"
  },
  "language_info": {
   "file_extension": ".jl",
   "mimetype": "application/julia",
   "name": "julia",
   "version": "1.4.2"
  },
  "toc": {
   "base_numbering": 1,
   "nav_menu": {},
   "number_sections": false,
   "sideBar": true,
   "skip_h1_title": true,
   "title_cell": "Table of Contents",
   "title_sidebar": "Contents",
   "toc_cell": true,
   "toc_position": {
    "height": "calc(100% - 180px)",
    "left": "10px",
    "top": "150px",
    "width": "190px"
   },
   "toc_section_display": true,
   "toc_window_display": true
  }
 },
 "nbformat": 4,
 "nbformat_minor": 4
}
