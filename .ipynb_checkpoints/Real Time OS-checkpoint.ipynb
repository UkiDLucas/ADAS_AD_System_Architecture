{
 "cells": [
  {
   "cell_type": "markdown",
   "metadata": {},
   "source": [
    "# Real Time Operating Systems (RTOS)"
   ]
  },
  {
   "cell_type": "markdown",
   "metadata": {},
   "source": [
    "## Timing requirements\n",
    "\n",
    "### Soft Requirements \n",
    "missing timing degrades the quality of the system\n",
    "- User Interface(UI) on the display\n",
    "\n",
    "### Hard Requirements\n",
    "missing timing creates a failure in the system\n",
    "- vehicle control system, e.g. automated breaking (AB)"
   ]
  },
  {
   "cell_type": "markdown",
   "metadata": {},
   "source": [
    "## Ticks and Tasks\n",
    "\n",
    "### Ticks\n",
    "\n",
    "Divide time into a measurable increments\n",
    "\n",
    "### Tasks\n",
    "\n",
    "Divide work into small containers"
   ]
  },
  {
   "cell_type": "code",
   "execution_count": null,
   "metadata": {},
   "outputs": [],
   "source": []
  }
 ],
 "metadata": {
  "kernelspec": {
   "display_name": "Julia 1.4.2",
   "language": "julia",
   "name": "julia-1.4"
  },
  "language_info": {
   "file_extension": ".jl",
   "mimetype": "application/julia",
   "name": "julia",
   "version": "1.4.2"
  }
 },
 "nbformat": 4,
 "nbformat_minor": 4
}
