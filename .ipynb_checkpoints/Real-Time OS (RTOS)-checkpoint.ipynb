{
 "cells": [
  {
   "cell_type": "markdown",
   "metadata": {},
   "source": [
    "# Real-Time Operating Systems (RTOS)"
   ]
  },
  {
   "cell_type": "markdown",
   "metadata": {
    "toc": true
   },
   "source": [
    "<h1>Table of Contents<span class=\"tocSkip\"></span></h1>\n",
    "<div class=\"toc\"><ul class=\"toc-item\"><li><span><a href=\"#Timing-requirements\" data-toc-modified-id=\"Timing-requirements-1\">Timing requirements</a></span><ul class=\"toc-item\"><li><span><a href=\"#Soft-Requirements\" data-toc-modified-id=\"Soft-Requirements-1.1\">Soft Requirements</a></span></li><li><span><a href=\"#Hard-Requirements\" data-toc-modified-id=\"Hard-Requirements-1.2\">Hard Requirements</a></span></li></ul></li><li><span><a href=\"#Traditional-Multi-Process-Systems\" data-toc-modified-id=\"Traditional-Multi-Process-Systems-2\">Traditional Multi-Process Systems</a></span><ul class=\"toc-item\"><li><span><a href=\"#Ticks\" data-toc-modified-id=\"Ticks-2.1\">Ticks</a></span></li><li><span><a href=\"#Tasks\" data-toc-modified-id=\"Tasks-2.2\">Tasks</a></span></li><li><span><a href=\"#Priorities\" data-toc-modified-id=\"Priorities-2.3\">Priorities</a></span></li><li><span><a href=\"#Blocking\" data-toc-modified-id=\"Blocking-2.4\">Blocking</a></span></li><li><span><a href=\"#Interrupts\" data-toc-modified-id=\"Interrupts-2.5\">Interrupts</a></span></li></ul></li><li><span><a href=\"#RTOS\" data-toc-modified-id=\"RTOS-3\">RTOS</a></span><ul class=\"toc-item\"><li><span><a href=\"#Delays\" data-toc-modified-id=\"Delays-3.1\">Delays</a></span></li><li><span><a href=\"#Inter-Task-Communication\" data-toc-modified-id=\"Inter-Task-Communication-3.2\">Inter-Task Communication</a></span><ul class=\"toc-item\"><li><span><a href=\"#Semaphores\" data-toc-modified-id=\"Semaphores-3.2.1\">Semaphores</a></span></li><li><span><a href=\"#Queues\" data-toc-modified-id=\"Queues-3.2.2\">Queues</a></span></li></ul></li></ul></li></ul></div>"
   ]
  },
  {
   "cell_type": "markdown",
   "metadata": {},
   "source": [
    "## Timing requirements\n",
    "\n",
    "### Soft Requirements \n",
    "missing timing degrades the quality of the system\n",
    "- User Interface(UI) on the display\n",
    "\n",
    "### Hard Requirements\n",
    "missing timing creates a failure in the system\n",
    "- vehicle control system, e.g. automated breaking (AB)"
   ]
  },
  {
   "cell_type": "markdown",
   "metadata": {},
   "source": [
    "## Traditional Multi-Process Systems\n",
    "\n",
    "### Ticks\n",
    "\n",
    "Divide time into a measurable increments\n",
    "\n",
    "### Tasks\n",
    "\n",
    "Divide work process into small containers\n",
    "\n",
    "\n",
    "### Priorities\n",
    "\n",
    "The Operating System (OS) shall run the highest priority unblocked task it can\n",
    "\n",
    "### Blocking\n",
    "\n",
    "- explicit pace, i.e. do a particular task every x miliseconds (ms)\n",
    "- do other lower priority tasks when processor time is available\n",
    "- inter-task communication\n",
    "\n",
    "### Interrupts\n",
    "\n",
    "- Microcontroler units (MCU) have built-in timers that can trigger an interupt\n",
    "- An interrupt causes the processor to stop a previous taks and switch to the next\n",
    "- not portable\n",
    "- uses a timer for each scheduled task, typical MCU might have 2 to 4 timers\n",
    "- hard to code\n",
    "- inflexible"
   ]
  },
  {
   "cell_type": "markdown",
   "metadata": {},
   "source": [
    "## RTOS\n",
    "\n",
    "- Uses one timer for any number of tasks\n",
    "- Benefits from interrupts\n",
    "- portable and flexible\n",
    "\n",
    "### Delays\n",
    "- runs task 1, then adds a delay\n",
    "- runs task 2 while task 1 is blocked\n",
    "- runs taks 1 after the delay"
   ]
  },
  {
   "cell_type": "markdown",
   "metadata": {},
   "source": [
    "### Inter-Task Communication\n",
    "\n",
    "- Facilitate blocking and scheduling\n",
    "\n",
    "#### Semaphores\n",
    "- scheduler, after arranging task priorities, sends the next task a \"go\" signal\n",
    "- \"priority inversion\"\n",
    "\n",
    "#### Queues\n",
    "- one way FIFO when the next task is waiting for the data fromt he previous task"
   ]
  },
  {
   "cell_type": "markdown",
   "metadata": {},
   "source": [
    "# Resources\n",
    "\n",
    "- https://www.youtube.com/watch?v=jSvv_ELkSMM"
   ]
  },
  {
   "cell_type": "code",
   "execution_count": null,
   "metadata": {},
   "outputs": [],
   "source": []
  }
 ],
 "metadata": {
  "kernelspec": {
   "display_name": "Julia 1.4.2",
   "language": "julia",
   "name": "julia-1.4"
  },
  "language_info": {
   "file_extension": ".jl",
   "mimetype": "application/julia",
   "name": "julia",
   "version": "1.4.2"
  },
  "toc": {
   "base_numbering": 1,
   "nav_menu": {},
   "number_sections": false,
   "sideBar": true,
   "skip_h1_title": true,
   "title_cell": "Table of Contents",
   "title_sidebar": "Contents",
   "toc_cell": true,
   "toc_position": {
    "height": "calc(100% - 180px)",
    "left": "10px",
    "top": "150px",
    "width": "251px"
   },
   "toc_section_display": true,
   "toc_window_display": true
  }
 },
 "nbformat": 4,
 "nbformat_minor": 4
}
