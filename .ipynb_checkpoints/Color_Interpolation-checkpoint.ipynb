{
 "cells": [
  {
   "cell_type": "markdown",
   "metadata": {},
   "source": [
    "# Color Interpolation\n",
    "\n"
   ]
  },
  {
   "cell_type": "markdown",
   "metadata": {
    "toc": true
   },
   "source": [
    "<h1>Table of Contents<span class=\"tocSkip\"></span></h1>\n",
    "<div class=\"toc\"><ul class=\"toc-item\"><li><span><a href=\"#Color-Interpolation\" data-toc-modified-id=\"Color-Interpolation-1\">Color Interpolation</a></span></li><li><span><a href=\"#Color-Filter-Array-(CFA)\" data-toc-modified-id=\"Color-Filter-Array-(CFA)-2\">Color Filter Array (CFA)</a></span><ul class=\"toc-item\"><li><span><a href=\"#Filter-Color-Paterns\" data-toc-modified-id=\"Filter-Color-Paterns-2.1\">Filter Color Paterns</a></span><ul class=\"toc-item\"><li><span><a href=\"#Bayer-tile-pattern\" data-toc-modified-id=\"Bayer-tile-pattern-2.1.1\">Bayer tile pattern</a></span></li></ul></li><li><span><a href=\"#Raw-Images\" data-toc-modified-id=\"Raw-Images-2.2\">Raw Images</a></span></li></ul></li><li><span><a href=\"#Hardware-Acceleration\" data-toc-modified-id=\"Hardware-Acceleration-3\">Hardware Acceleration</a></span></li><li><span><a href=\"#Interpolation-Metrics\" data-toc-modified-id=\"Interpolation-Metrics-4\">Interpolation Metrics</a></span><ul class=\"toc-item\"><li><span><a href=\"#Image-sharpness-(blurr)\" data-toc-modified-id=\"Image-sharpness-(blurr)-4.1\">Image sharpness (blurr)</a></span></li></ul></li><li><span><a href=\"#Resources\" data-toc-modified-id=\"Resources-5\">Resources</a></span></li></ul></div>"
   ]
  },
  {
   "cell_type": "markdown",
   "metadata": {},
   "source": [
    "# Color Filter Array (CFA)\n",
    "\n",
    "The Color Filter Array (CFA) filter is the most common way of catpuring images with the camera. \n",
    "\n",
    "The filter is placed in front of the photo sensitive sensor and each color pixel of the filter allows only a particular color bandwidth to pass.\n",
    "\n",
    "The most common filter uses the Red, Green and Blue (RGB) colors, the other colors are **interpolated** from the neighboring pixels.\n",
    "\n"
   ]
  },
  {
   "cell_type": "markdown",
   "metadata": {},
   "source": [
    "## Filter Color Paterns\n",
    "\n",
    "### Bayer tile pattern\n",
    "\n",
    "Humans can perceive Green color more then any other, hence manufactures usually build Color Filer Arrays (CFA) with more green pixels. \n",
    "\n",
    "The notation based on the 4 pixes in a square counting clockwise might be RGGB."
   ]
  },
  {
   "cell_type": "markdown",
   "metadata": {},
   "source": [
    "## Raw Images\n",
    "\n",
    "\n",
    "The \"raw\" CFA images save pixels as they were captured and therefore you can see the tile pattern used by the camera."
   ]
  },
  {
   "cell_type": "markdown",
   "metadata": {},
   "source": [
    "# Hardware Acceleration \n",
    "\n",
    "If the camera does not have its own processing unit, the Color Interpolation is usually performed by the dedicated Image Signal Processor (ISP) provided by the System on the Chip (SOC) manufacturer. \n",
    "\n",
    "The Intrpolation should not be performend in the main CPU."
   ]
  },
  {
   "cell_type": "markdown",
   "metadata": {},
   "source": [
    "# Interpolation Metrics\n",
    "\n",
    "The success of the color interpolation can be measured based on the following metrics:\n",
    "- sharpness\n",
    "- false colors\n",
    "- processing time"
   ]
  },
  {
   "cell_type": "markdown",
   "metadata": {},
   "source": [
    "## Image sharpness (blurr)\n",
    "\n",
    "The interpolation algorithm tends to you averaging between the pixel colors and hence introducing the blurr."
   ]
  },
  {
   "cell_type": "markdown",
   "metadata": {},
   "source": [
    "# Resources\n",
    "\n",
    "- [Flir: Understanding Color Interpolation](https://www.flir.com/support-center/iis/machine-vision/application-note/understanding-color-interpolation/)"
   ]
  },
  {
   "cell_type": "code",
   "execution_count": null,
   "metadata": {},
   "outputs": [],
   "source": []
  }
 ],
 "metadata": {
  "kernelspec": {
   "display_name": "Julia 1.4.2",
   "language": "julia",
   "name": "julia-1.4"
  },
  "language_info": {
   "file_extension": ".jl",
   "mimetype": "application/julia",
   "name": "julia",
   "version": "1.4.2"
  },
  "toc": {
   "base_numbering": 1,
   "nav_menu": {},
   "number_sections": false,
   "sideBar": true,
   "skip_h1_title": false,
   "title_cell": "Table of Contents",
   "title_sidebar": "Contents",
   "toc_cell": true,
   "toc_position": {},
   "toc_section_display": true,
   "toc_window_display": true
  }
 },
 "nbformat": 4,
 "nbformat_minor": 4
}
